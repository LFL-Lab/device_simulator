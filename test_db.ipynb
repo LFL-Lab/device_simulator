{
 "cells": [
  {
   "cell_type": "markdown",
   "metadata": {},
   "source": [
    "# Load Dataset"
   ]
  },
  {
   "cell_type": "code",
   "execution_count": 1,
   "metadata": {},
   "outputs": [],
   "source": [
    "from datasets import get_dataset_config_names\n",
    "from datasets import load_dataset\n",
    "\n",
    "configs = get_dataset_config_names(\"SQuADDS/SQuADDS_DB\")"
   ]
  },
  {
   "cell_type": "code",
   "execution_count": 2,
   "metadata": {},
   "outputs": [
    {
     "data": {
      "text/plain": [
       "['qubit-TransmonCross-cap_matrix',\n",
       " 'cavity_claw-RouteMeander-eigenmode',\n",
       " 'coupler-NCap-cap_matrix']"
      ]
     },
     "execution_count": 2,
     "metadata": {},
     "output_type": "execute_result"
    }
   ],
   "source": [
    "configs"
   ]
  },
  {
   "cell_type": "code",
   "execution_count": 3,
   "metadata": {},
   "outputs": [
    {
     "data": {
      "text/plain": [
       "DatasetDict({\n",
       "    train: Dataset({\n",
       "        features: ['sim_results', 'design', 'notes', 'contributor', 'sim_options'],\n",
       "        num_rows: 1934\n",
       "    })\n",
       "})"
      ]
     },
     "execution_count": 3,
     "metadata": {},
     "output_type": "execute_result"
    }
   ],
   "source": [
    "qubit_data = load_dataset(\"SQuADDS/SQuADDS_DB\", configs[0])\n",
    "qubit_data"
   ]
  },
  {
   "cell_type": "code",
   "execution_count": 4,
   "metadata": {},
   "outputs": [
    {
     "data": {
      "text/plain": [
       "{'sim_results': {'claw_to_claw': 94.97421,\n",
       "  'claw_to_ground': 90.86585,\n",
       "  'cross_to_claw': 3.73363,\n",
       "  'cross_to_cross': 158.40783,\n",
       "  'cross_to_ground': 158.40783,\n",
       "  'ground_to_ground': 311.2559,\n",
       "  'units': 'nH'},\n",
       " 'design': {'design_options': {'aedt_hfss_capacitance': 0,\n",
       "   'aedt_hfss_inductance': 9.686e-09,\n",
       "   'aedt_q3d_capacitance': 0,\n",
       "   'aedt_q3d_inductance': 1e-08,\n",
       "   'chip': 'main',\n",
       "   'connection_pads': {'c': {'claw_cpw_length': '40um',\n",
       "     'claw_cpw_width': '10um',\n",
       "     'claw_gap': '5.1um',\n",
       "     'claw_length': '160um',\n",
       "     'claw_width': '15um',\n",
       "     'connector_location': '90',\n",
       "     'connector_type': '0',\n",
       "     'ground_spacing': '10um'}},\n",
       "   'cross_gap': '30um',\n",
       "   'cross_length': '310um',\n",
       "   'cross_width': '30um',\n",
       "   'gds_cell_name': 'my_other_junction',\n",
       "   'hfss_capacitance': 0,\n",
       "   'hfss_inductance': 9.686e-09,\n",
       "   'hfss_mesh_kw_jj': 7e-06,\n",
       "   'hfss_resistance': 0,\n",
       "   'layer': '1',\n",
       "   'orientation': '-90',\n",
       "   'pos_x': '-1500um',\n",
       "   'pos_y': '1200um',\n",
       "   'q3d_capacitance': 0,\n",
       "   'q3d_inductance': '10nH',\n",
       "   'q3d_mesh_kw_jj': 7e-06,\n",
       "   'q3d_resistance': 0},\n",
       "  'design_tool': 'qiskit-metal'},\n",
       " 'notes': {},\n",
       " 'contributor': {'PI': 'Eli Levenson-Falk, PhD',\n",
       "  'date_created': '2023-09-20-142547',\n",
       "  'group': 'LFL',\n",
       "  'institution': 'USC',\n",
       "  'uploader': 'Andre Kuo'},\n",
       " 'sim_options': {'renderer_options': {'Cj': 0,\n",
       "   'Lj': '10nH',\n",
       "   '_Rj': 0,\n",
       "   'design_name': None,\n",
       "   'max_mesh_length_jj': '7um',\n",
       "   'max_mesh_length_port': '7um',\n",
       "   'plot_ansys_fields_options': {'AdjacentSidePlot': 'False',\n",
       "    'FullModelPlot': 'False',\n",
       "    'IntrinsicVar': \"Phase='0deg'\",\n",
       "    'PlotFolder': 'E Field',\n",
       "    'PlotGeomInfo_0': '1',\n",
       "    'PlotGeomInfo_1': 'Surface',\n",
       "    'PlotGeomInfo_2': 'FacesList',\n",
       "    'PlotGeomInfo_3': '1',\n",
       "    'QuantityName': 'Mag_E',\n",
       "    'StreamlinePlot': 'False',\n",
       "    'UserSpecifyFolder': '0',\n",
       "    'UserSpecifyName': '0',\n",
       "    'name': 'NAME:Mag_E1'},\n",
       "   'project_name': None,\n",
       "   'project_path': None,\n",
       "   'wb_offset': '0um',\n",
       "   'wb_size': 5,\n",
       "   'wb_threshold': '400um',\n",
       "   'x_buffer_width_mm': 0.2,\n",
       "   'y_buffer_width_mm': 0.2},\n",
       "  'setup': {'auto_increase_solution_order': True,\n",
       "   'enabled': True,\n",
       "   'freq_ghz': 5.0,\n",
       "   'max_passes': 30,\n",
       "   'min_converged_passes': 1,\n",
       "   'min_passes': 2,\n",
       "   'name': 'sweep_setup',\n",
       "   'percent_error': 0.1,\n",
       "   'percent_refinement': 30,\n",
       "   'reuse_selected_design': False,\n",
       "   'reuse_setup': False,\n",
       "   'run': {'box_plus_buffer': True,\n",
       "    'components': ['Q'],\n",
       "    'name': 'sweep_v2.0',\n",
       "    'open_terminations': [['Q', 'c']]},\n",
       "   'save_fields': False,\n",
       "   'solution_order': 'High',\n",
       "   'solver_type': 'Iterative'},\n",
       "  'simulator': 'Ansys HFSS'}}"
      ]
     },
     "execution_count": 4,
     "metadata": {},
     "output_type": "execute_result"
    }
   ],
   "source": [
    "example_device = qubit_data[\"train\"][0]\n",
    "example_device"
   ]
  },
  {
   "cell_type": "markdown",
   "metadata": {},
   "source": [
    "# Simulate the Example Device"
   ]
  },
  {
   "cell_type": "markdown",
   "metadata": {},
   "source": [
    "### Import `utils.py` and `objects.py` which contain the simulator code"
   ]
  },
  {
   "cell_type": "code",
   "execution_count": 5,
   "metadata": {},
   "outputs": [],
   "source": [
    "from objects import *\n",
    "from utils import *"
   ]
  },
  {
   "cell_type": "markdown",
   "metadata": {},
   "source": [
    "### Import `qiskit metal` and create design"
   ]
  },
  {
   "cell_type": "code",
   "execution_count": 6,
   "metadata": {},
   "outputs": [],
   "source": [
    "%load_ext autoreload\n",
    "%autoreload 2\n",
    "from qiskit_metal import draw, Dict, designs, MetalGUI\n",
    "from qiskit_metal.toolbox_metal import math_and_overrides\n",
    "import qiskit_metal as metal\n",
    "\n",
    "design = metal.designs.design_planar.DesignPlanar()\n",
    "gui = metal.MetalGUI(design)\n",
    "design.overwrite_enabled = True"
   ]
  },
  {
   "cell_type": "markdown",
   "metadata": {},
   "source": [
    "### Simulate the example device"
   ]
  },
  {
   "cell_type": "code",
   "execution_count": 7,
   "metadata": {},
   "outputs": [
    {
     "name": "stderr",
     "output_type": "stream",
     "text": [
      "INFO 02:20PM [connect_project]: Connecting to Ansys Desktop API...\n",
      "INFO 02:20PM [load_ansys_project]: \tOpened Ansys App\n",
      "INFO 02:20PM [load_ansys_project]: \tOpened Ansys Desktop v2021.1.0\n",
      "INFO 02:20PM [load_ansys_project]: \tOpened Ansys Project\n",
      "\tFolder:    D:/lfl/Documents/Ansoft/\n",
      "\tProject:   4p1_xmon_LOM_sweep\n"
     ]
    },
    {
     "name": "stdout",
     "output_type": "stream",
     "text": [
      "{'pos_x': '-1500um', 'pos_y': '1200um', 'orientation': '-90', 'chip': 'main', 'layer': '1', 'connection_pads': {'c': {'connector_type': '0', 'claw_length': '160um', 'ground_spacing': '10um', 'claw_width': '15um', 'claw_gap': '5.1um', 'claw_cpw_length': '40um', 'claw_cpw_width': '10um', 'connector_location': '90'}}, 'cross_width': '30um', 'cross_length': '310um', 'cross_gap': '30um', 'hfss_inductance': 9.686e-09, 'hfss_capacitance': 0, 'hfss_resistance': 0, 'hfss_mesh_kw_jj': 7e-06, 'q3d_inductance': '10nH', 'q3d_capacitance': 0, 'q3d_resistance': 0, 'q3d_mesh_kw_jj': 7e-06, 'gds_cell_name': 'my_other_junction', 'aedt_q3d_inductance': 1e-08, 'aedt_q3d_capacitance': 0, 'aedt_hfss_inductance': 9.686e-09, 'aedt_hfss_capacitance': 0}\n"
     ]
    },
    {
     "name": "stderr",
     "output_type": "stream",
     "text": [
      "INFO 02:20PM [connect_design]: \tOpened active design\n",
      "\tDesign:    LOMv2.01_q3d82 [Solution type: Q3D]\n",
      "INFO 02:20PM [get_setup]: \tOpened setup `Setup`  (<class 'pyEPR.ansys.AnsysQ3DSetup'>)\n",
      "INFO 02:20PM [connect]: \tConnected to project \"4p1_xmon_LOM_sweep\" and design \"LOMv2.01_q3d82\" 😀 \n",
      "\n"
     ]
    }
   ],
   "source": [
    "results_df = simulate_single_design(example_device)"
   ]
  },
  {
   "cell_type": "code",
   "execution_count": null,
   "metadata": {},
   "outputs": [],
   "source": []
  }
 ],
 "metadata": {
  "kernelspec": {
   "display_name": "qiskit_metal",
   "language": "python",
   "name": "python3"
  },
  "language_info": {
   "codemirror_mode": {
    "name": "ipython",
    "version": 3
   },
   "file_extension": ".py",
   "mimetype": "text/x-python",
   "name": "python",
   "nbconvert_exporter": "python",
   "pygments_lexer": "ipython3",
   "version": "3.11.4"
  }
 },
 "nbformat": 4,
 "nbformat_minor": 2
}
